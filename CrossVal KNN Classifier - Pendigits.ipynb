{
 "cells": [
  {
   "cell_type": "code",
   "execution_count": 1,
   "metadata": {},
   "outputs": [],
   "source": [
    "import numpy as np\n",
    "import pandas as pd\n",
    "import sklearn.neighbors\n",
    "import sklearn.model_selection\n",
    "import sklearn.datasets\n",
    "import sklearn.manifold\n",
    "import sklearn.decomposition"
   ]
  },
  {
   "cell_type": "code",
   "execution_count": 2,
   "metadata": {},
   "outputs": [],
   "source": [
    "def score_embedding(data, labels, k=10, n_neighbors=5, random_state=42):\n",
    "    model = sklearn.neighbors.KNeighborsClassifier(n_neighbors=n_neighbors)\n",
    "    cv = sklearn.model_selection.StratifiedKFold(n_splits=k, random_state=random_state)\n",
    "    return sklearn.model_selection.cross_val_score(model, data, labels, cv=cv)"
   ]
  },
  {
   "cell_type": "code",
   "execution_count": 3,
   "metadata": {},
   "outputs": [],
   "source": [
    "def compare_embeddings(embeddings, n_neighbors=5, k=10, random_state=42):\n",
    "    cross_val_scores = {}\n",
    "    for alg in embeddings.keys():\n",
    "        cross_val_scores[alg] = score_embedding(embeddings[alg][['x', 'y']].values, \n",
    "                                                embeddings[alg]['labels'].values,\n",
    "                                                n_neighbors=n_neighbors,\n",
    "                                                k=k,\n",
    "                                                random_state=random_state)\n",
    "    return pd.DataFrame(cross_val_scores).assign(n_neighbors=n_neighbors)"
   ]
  },
  {
   "cell_type": "code",
   "execution_count": 4,
   "metadata": {},
   "outputs": [],
   "source": [
    "digits = sklearn.datasets.load_digits()\n",
    "\n",
    "pendigits = {}\n",
    "pendigits['tsne'] = pd.read_csv('embedding_pendigits_tsne1.csv', index_col=0)\n",
    "pendigits['umap'] = pd.read_csv('embedding_pendigits_umap1.csv', index_col=0)\n",
    "pendigits['lvis'] = pd.read_csv('embedding_pendigits_largevis1.csv', index_col=0)\n",
    "pendigits['fits'] = pd.read_csv('embedding_pendigits_fitsne1.csv', index_col=0)\n",
    "\n",
    "pendigits['leig'] = pd.DataFrame(\n",
    "    sklearn.manifold.SpectralEmbedding(n_components=2).fit_transform(digits.data), \n",
    "    columns=('x', 'y')).assign(labels=digits.target)"
   ]
  },
  {
   "cell_type": "code",
   "execution_count": 5,
   "metadata": {},
   "outputs": [],
   "source": [
    "df = pd.concat(compare_embeddings(pendigits, n_neighbors=n) for n in (10,20,40,80,160))"
   ]
  },
  {
   "cell_type": "code",
   "execution_count": 6,
   "metadata": {},
   "outputs": [
    {
     "data": {
      "text/html": [
       "<div>\n",
       "<style scoped>\n",
       "    .dataframe tbody tr th:only-of-type {\n",
       "        vertical-align: middle;\n",
       "    }\n",
       "\n",
       "    .dataframe tbody tr th {\n",
       "        vertical-align: top;\n",
       "    }\n",
       "\n",
       "    .dataframe thead th {\n",
       "        text-align: right;\n",
       "    }\n",
       "</style>\n",
       "<table border=\"1\" class=\"dataframe\">\n",
       "  <thead>\n",
       "    <tr style=\"text-align: right;\">\n",
       "      <th></th>\n",
       "      <th>fits</th>\n",
       "      <th>leig</th>\n",
       "      <th>lvis</th>\n",
       "      <th>tsne</th>\n",
       "      <th>umap</th>\n",
       "    </tr>\n",
       "    <tr>\n",
       "      <th>n_neighbors</th>\n",
       "      <th></th>\n",
       "      <th></th>\n",
       "      <th></th>\n",
       "      <th></th>\n",
       "      <th></th>\n",
       "    </tr>\n",
       "  </thead>\n",
       "  <tbody>\n",
       "    <tr>\n",
       "      <th>10</th>\n",
       "      <td>0.972896</td>\n",
       "      <td>0.777790</td>\n",
       "      <td>0.965704</td>\n",
       "      <td>0.976742</td>\n",
       "      <td>0.972930</td>\n",
       "    </tr>\n",
       "    <tr>\n",
       "      <th>20</th>\n",
       "      <td>0.973395</td>\n",
       "      <td>0.777803</td>\n",
       "      <td>0.973416</td>\n",
       "      <td>0.973383</td>\n",
       "      <td>0.976201</td>\n",
       "    </tr>\n",
       "    <tr>\n",
       "      <th>40</th>\n",
       "      <td>0.958920</td>\n",
       "      <td>0.777756</td>\n",
       "      <td>0.952252</td>\n",
       "      <td>0.955583</td>\n",
       "      <td>0.953891</td>\n",
       "    </tr>\n",
       "    <tr>\n",
       "      <th>80</th>\n",
       "      <td>0.949431</td>\n",
       "      <td>0.768924</td>\n",
       "      <td>0.945017</td>\n",
       "      <td>0.947783</td>\n",
       "      <td>0.950570</td>\n",
       "    </tr>\n",
       "    <tr>\n",
       "      <th>160</th>\n",
       "      <td>0.948863</td>\n",
       "      <td>0.746717</td>\n",
       "      <td>0.920763</td>\n",
       "      <td>0.948888</td>\n",
       "      <td>0.950570</td>\n",
       "    </tr>\n",
       "  </tbody>\n",
       "</table>\n",
       "</div>"
      ],
      "text/plain": [
       "                 fits      leig      lvis      tsne      umap\n",
       "n_neighbors                                                  \n",
       "10           0.972896  0.777790  0.965704  0.976742  0.972930\n",
       "20           0.973395  0.777803  0.973416  0.973383  0.976201\n",
       "40           0.958920  0.777756  0.952252  0.955583  0.953891\n",
       "80           0.949431  0.768924  0.945017  0.947783  0.950570\n",
       "160          0.948863  0.746717  0.920763  0.948888  0.950570"
      ]
     },
     "execution_count": 6,
     "metadata": {},
     "output_type": "execute_result"
    }
   ],
   "source": [
    "df.groupby('n_neighbors', ).mean()"
   ]
  },
  {
   "cell_type": "code",
   "execution_count": 7,
   "metadata": {},
   "outputs": [
    {
     "data": {
      "text/html": [
       "<div>\n",
       "<style scoped>\n",
       "    .dataframe tbody tr th:only-of-type {\n",
       "        vertical-align: middle;\n",
       "    }\n",
       "\n",
       "    .dataframe tbody tr th {\n",
       "        vertical-align: top;\n",
       "    }\n",
       "\n",
       "    .dataframe thead th {\n",
       "        text-align: right;\n",
       "    }\n",
       "</style>\n",
       "<table border=\"1\" class=\"dataframe\">\n",
       "  <thead>\n",
       "    <tr style=\"text-align: right;\">\n",
       "      <th></th>\n",
       "      <th>fits</th>\n",
       "      <th>leig</th>\n",
       "      <th>lvis</th>\n",
       "      <th>tsne</th>\n",
       "      <th>umap</th>\n",
       "    </tr>\n",
       "    <tr>\n",
       "      <th>n_neighbors</th>\n",
       "      <th></th>\n",
       "      <th></th>\n",
       "      <th></th>\n",
       "      <th></th>\n",
       "      <th></th>\n",
       "    </tr>\n",
       "  </thead>\n",
       "  <tbody>\n",
       "    <tr>\n",
       "      <th>10</th>\n",
       "      <td>0.041183</td>\n",
       "      <td>0.112792</td>\n",
       "      <td>0.053206</td>\n",
       "      <td>0.033481</td>\n",
       "      <td>0.043622</td>\n",
       "    </tr>\n",
       "    <tr>\n",
       "      <th>20</th>\n",
       "      <td>0.036275</td>\n",
       "      <td>0.115692</td>\n",
       "      <td>0.043507</td>\n",
       "      <td>0.033307</td>\n",
       "      <td>0.035008</td>\n",
       "    </tr>\n",
       "    <tr>\n",
       "      <th>40</th>\n",
       "      <td>0.057385</td>\n",
       "      <td>0.111581</td>\n",
       "      <td>0.065633</td>\n",
       "      <td>0.064360</td>\n",
       "      <td>0.059832</td>\n",
       "    </tr>\n",
       "    <tr>\n",
       "      <th>80</th>\n",
       "      <td>0.054461</td>\n",
       "      <td>0.111257</td>\n",
       "      <td>0.071807</td>\n",
       "      <td>0.060277</td>\n",
       "      <td>0.056849</td>\n",
       "    </tr>\n",
       "    <tr>\n",
       "      <th>160</th>\n",
       "      <td>0.054342</td>\n",
       "      <td>0.107641</td>\n",
       "      <td>0.084504</td>\n",
       "      <td>0.064613</td>\n",
       "      <td>0.056849</td>\n",
       "    </tr>\n",
       "  </tbody>\n",
       "</table>\n",
       "</div>"
      ],
      "text/plain": [
       "                 fits      leig      lvis      tsne      umap\n",
       "n_neighbors                                                  \n",
       "10           0.041183  0.112792  0.053206  0.033481  0.043622\n",
       "20           0.036275  0.115692  0.043507  0.033307  0.035008\n",
       "40           0.057385  0.111581  0.065633  0.064360  0.059832\n",
       "80           0.054461  0.111257  0.071807  0.060277  0.056849\n",
       "160          0.054342  0.107641  0.084504  0.064613  0.056849"
      ]
     },
     "execution_count": 7,
     "metadata": {},
     "output_type": "execute_result"
    }
   ],
   "source": [
    "df.groupby('n_neighbors', ).std() * 2"
   ]
  },
  {
   "cell_type": "code",
   "execution_count": null,
   "metadata": {},
   "outputs": [],
   "source": []
  }
 ],
 "metadata": {
  "kernelspec": {
   "display_name": "Python [conda env:umap_dev]",
   "language": "python",
   "name": "conda-env-umap_dev-py"
  },
  "language_info": {
   "codemirror_mode": {
    "name": "ipython",
    "version": 3
   },
   "file_extension": ".py",
   "mimetype": "text/x-python",
   "name": "python",
   "nbconvert_exporter": "python",
   "pygments_lexer": "ipython3",
   "version": "3.6.8"
  }
 },
 "nbformat": 4,
 "nbformat_minor": 2
}
